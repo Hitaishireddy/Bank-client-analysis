{
  "nbformat": 4,
  "nbformat_minor": 0,
  "metadata": {
    "colab": {
      "provenance": []
    },
    "kernelspec": {
      "name": "python3",
      "display_name": "Python 3"
    },
    "language_info": {
      "name": "python"
    }
  },
  "cells": [
    {
      "cell_type": "code",
      "source": [
        "import pandas as pd\n",
        "\n",
        "\n",
        "bank_df_1 = pd.DataFrame({\n",
        "    'ClientID': [1, 2, 3, 4, 5],\n",
        "    'FirstName': ['Alice', 'Bob', 'Charlie', 'David', 'Eva'],\n",
        "    'LastName': ['Smith', 'Jones', 'Brown', 'Taylor', 'Clark']\n",
        "})\n",
        "\n",
        "\n",
        "bank_df_2 = pd.DataFrame({\n",
        "    'ClientID': [6, 7, 8, 9, 10],\n",
        "    'FirstName': ['Frank', 'Grace', 'Hannah', 'Ian', 'Julia'],\n",
        "    'LastName': ['Miller', 'Wilson', 'Moore', 'Lee', 'Hall']\n",
        "})\n",
        "\n",
        "\n",
        "salary_df = pd.DataFrame({\n",
        "    'ClientID': range(1, 11),\n",
        "    'AnnualSalary': [50000, 60000, 45000, 70000, 52000, 48000, 61000, 59000, 54000, 62000]\n",
        "})\n",
        "\n",
        "\n",
        "bank_all = pd.concat([bank_df_1, bank_df_2], ignore_index=True)\n",
        "\n",
        "bank_all = pd.merge(bank_all, salary_df, on='ClientID')\n",
        "\n",
        "\n",
        "my_data = pd.DataFrame([{\n",
        "    'ClientID': 11,\n",
        "    'FirstName': 'Hitaishi',\n",
        "    'LastName': 'Reddy',\n",
        "    'AnnualSalary': 65000\n",
        "}])\n",
        "\n",
        "bank_all = pd.concat([bank_all, my_data], ignore_index=True)\n",
        "\n",
        "print(bank_all)\n"
      ],
      "metadata": {
        "colab": {
          "base_uri": "https://localhost:8080/"
        },
        "id": "jM0bggQ3NvY6",
        "outputId": "5f66ffda-900f-4668-a61c-eac320c2dad7"
      },
      "execution_count": 5,
      "outputs": [
        {
          "output_type": "stream",
          "name": "stdout",
          "text": [
            "    ClientID FirstName LastName  AnnualSalary\n",
            "0          1     Alice    Smith         50000\n",
            "1          2       Bob    Jones         60000\n",
            "2          3   Charlie    Brown         45000\n",
            "3          4     David   Taylor         70000\n",
            "4          5       Eva    Clark         52000\n",
            "5          6     Frank   Miller         48000\n",
            "6          7     Grace   Wilson         61000\n",
            "7          8    Hannah    Moore         59000\n",
            "8          9       Ian      Lee         54000\n",
            "9         10     Julia     Hall         62000\n",
            "10        11  Hitaishi    Reddy         65000\n"
          ]
        }
      ]
    }
  ]
}